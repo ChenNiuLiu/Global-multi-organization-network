{
 "cells": [
  {
   "cell_type": "code",
   "execution_count": 2,
   "id": "2b5f18f4",
   "metadata": {},
   "outputs": [],
   "source": [
    "import pandas as pd\n",
    "import numpy as np\n",
    "\n",
    "# Read the CSV file\n",
    "data = pd.read_csv(r'F:\\Gdelt-ergm\\18_19(2019).csv')\n",
    "\n",
    "# Get unique nodes\n",
    "unique_nodes = pd.unique(data[['node1', 'node2']].values.ravel('K'))\n",
    "\n",
    "# Create an empty adjacency matrix\n",
    "adj_matrix = pd.DataFrame(np.zeros((len(unique_nodes), len(unique_nodes))), index=unique_nodes, columns=unique_nodes)\n",
    "\n",
    "# Fill the adjacency matrix with weights from the dataset\n",
    "for _, row in data.iterrows():\n",
    "    adj_matrix.at[row['node1'], row['node2']] = row['weight']\n",
    "\n",
    "# Save the adjacency matrix as a CSV file\n",
    "adj_matrix.to_csv(r'F:\\Gdelt-ergm\\2019.csv', index=False, header=False)\n"
   ]
  },
  {
   "cell_type": "code",
   "execution_count": 31,
   "id": "e2bd2e32",
   "metadata": {},
   "outputs": [
    {
     "name": "stdout",
     "output_type": "stream",
     "text": [
      "                                   node code\n",
      "0                                UNICEF  USA\n",
      "1                  WORLD ECONOMIC FORUM  CHE\n",
      "2                               ABB LTD  CHE\n",
      "3             WORLD HEALTH ORGANIZATION  CHE\n",
      "4                 ACTION AGAINST HUNGER  USA\n",
      "..                                  ...  ...\n",
      "295                            INTERSOS  GBR\n",
      "296                      CITRIX SYSTEMS  USA\n",
      "297                     HUTCHISON ESSAR  IND\n",
      "298  BANK FOR INTERNATIONAL SETTLEMENTS  CHE\n",
      "299                                YWCA  CHE\n",
      "\n",
      "[300 rows x 2 columns]\n"
     ]
    }
   ],
   "source": []
  },
  {
   "cell_type": "code",
   "execution_count": null,
   "id": "1c8823bf",
   "metadata": {},
   "outputs": [],
   "source": []
  }
 ],
 "metadata": {
  "kernelspec": {
   "display_name": "Python 3 (ipykernel)",
   "language": "python",
   "name": "python3"
  },
  "language_info": {
   "codemirror_mode": {
    "name": "ipython",
    "version": 3
   },
   "file_extension": ".py",
   "mimetype": "text/x-python",
   "name": "python",
   "nbconvert_exporter": "python",
   "pygments_lexer": "ipython3",
   "version": "3.9.12"
  }
 },
 "nbformat": 4,
 "nbformat_minor": 5
}
