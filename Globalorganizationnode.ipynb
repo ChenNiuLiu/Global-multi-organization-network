{
 "cells": [
  {
   "cell_type": "code",
   "execution_count": 3,
   "id": "ec7ffe4c",
   "metadata": {},
   "outputs": [
    {
     "name": "stdout",
     "output_type": "stream",
     "text": [
      "Number of nodes: 327\n"
     ]
    }
   ],
   "source": [
    "import pandas as pd\n",
    "\n",
    "# Load the data\n",
    "data = pd.read_csv(r'F:/GDELT/2018global-interorg-data-new4.csv')\n",
    "\n",
    "# Combine Source and Target into a single node column\n",
    "nodes = pd.concat([data[\"Source\"], data[\"Target\"]]).unique()\n",
    "\n",
    "# Get the number of objects in nodes array\n",
    "num_nodes = len(nodes)\n",
    "\n",
    "# Print the result\n",
    "print(\"Number of nodes:\", num_nodes)\n",
    "\n",
    "# Create a new dataframe with node attributes\n",
    "node_attributes = pd.DataFrame({\"node\": nodes})\n",
    "node_attributes[\"nodeType\"] = \"\"\n",
    "node_attributes[\"nodeTheme\"] = \"\"\n",
    "node_attributes[\"nodeGDP\"] = \"\"\n",
    "node_attributes[\"nodeCode\"] = \"\"\n",
    "\n",
    "for index, row in node_attributes.iterrows():\n",
    "    node = row[\"node\"]\n",
    "    if node in data[\"Source\"].values:\n",
    "        node_attributes.at[index, \"nodeType\"] = data.loc[data[\"Source\"]==node, \"Source_Type\"].iloc[0]\n",
    "        node_attributes.at[index, \"nodeTheme\"] = data.loc[data[\"Source\"]==node, \"Source_Theme\"].iloc[0]\n",
    "        node_attributes.at[index, \"nodeGDP\"] = data.loc[data[\"Source\"]==node, \"Source_GDP\"].iloc[0]\n",
    "        node_attributes.at[index, \"nodeCode\"] = data.loc[data[\"Source\"]==node, \"Source_Code\"].iloc[0]\n",
    "    else:\n",
    "        node_attributes.at[index, \"nodeType\"] = data.loc[data[\"Target\"]==node, \"Target_Type\"].iloc[0]\n",
    "        node_attributes.at[index, \"nodeTheme\"] = data.loc[data[\"Target\"]==node, \"Target_Theme\"].iloc[0]\n",
    "        node_attributes.at[index, \"nodeGDP\"] = data.loc[data[\"Target\"]==node, \"Target_GDP\"].iloc[0]\n",
    "        node_attributes.at[index, \"nodeCode\"] = data.loc[data[\"Target\"]==node, \"Target_Code\"].iloc[0]\n",
    "\n",
    "# Save the node attributes to a new CSV file\n",
    "node_attributes.to_csv(r'F:\\GDELT\\node_attributes2.csv', index=False)"
   ]
  },
  {
   "cell_type": "code",
   "execution_count": 7,
   "id": "1b2d6cf0",
   "metadata": {},
   "outputs": [],
   "source": [
    "#node_df.to_csv(r'F:\\Gdelt-ergm\\18_19ERGMNODE_new.csv')"
   ]
  }
 ],
 "metadata": {
  "kernelspec": {
   "display_name": "Python 3 (ipykernel)",
   "language": "python",
   "name": "python3"
  },
  "language_info": {
   "codemirror_mode": {
    "name": "ipython",
    "version": 3
   },
   "file_extension": ".py",
   "mimetype": "text/x-python",
   "name": "python",
   "nbconvert_exporter": "python",
   "pygments_lexer": "ipython3",
   "version": "3.9.12"
  }
 },
 "nbformat": 4,
 "nbformat_minor": 5
}
