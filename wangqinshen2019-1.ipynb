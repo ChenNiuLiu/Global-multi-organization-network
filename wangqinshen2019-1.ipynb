{
 "cells": [
  {
   "cell_type": "code",
   "execution_count": 3,
   "id": "2f343518",
   "metadata": {},
   "outputs": [],
   "source": [
    "import pandas as pd\n",
    "\n",
    "# Read the CSV file\n",
    "data = pd.read_csv(r'F:\\Gdelt-ergm\\node_attributes.csv')\n",
    "\n",
    "# Convert categorical variables to dummy variables\n",
    "nodeType_dummies = pd.get_dummies(data['nodeType'], prefix='nodeType')\n",
    "nodeTheme_dummies = pd.get_dummies(data['nodeTheme'], prefix='nodeTheme')\n",
    "nodeCode_dummies = pd.get_dummies(data['nodeCode'], prefix='nodeCode')\n",
    "\n",
    "# Concatenate the dummy variables with the original dataset\n",
    "data_processed = pd.concat([data[['node', 'nodeGDP']], nodeType_dummies, nodeTheme_dummies, nodeCode_dummies], axis=1)\n",
    "\n",
    "# Sort the dataset by the numeric value of nodeGDP\n",
    "data_processed.sort_values('nodeGDP', ascending=True, inplace=True)\n",
    "\n",
    "# Save the processed dataset to a new CSV file\n",
    "data_processed.to_csv(r'F:\\Gdelt-ergm\\18-19(2019-1).csv', index=False)\n"
   ]
  },
  {
   "cell_type": "code",
   "execution_count": null,
   "id": "b5ff8499",
   "metadata": {},
   "outputs": [],
   "source": []
  }
 ],
 "metadata": {
  "kernelspec": {
   "display_name": "Python 3 (ipykernel)",
   "language": "python",
   "name": "python3"
  },
  "language_info": {
   "codemirror_mode": {
    "name": "ipython",
    "version": 3
   },
   "file_extension": ".py",
   "mimetype": "text/x-python",
   "name": "python",
   "nbconvert_exporter": "python",
   "pygments_lexer": "ipython3",
   "version": "3.9.12"
  }
 },
 "nbformat": 4,
 "nbformat_minor": 5
}
